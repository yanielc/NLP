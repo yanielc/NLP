{
  "nbformat": 4,
  "nbformat_minor": 0,
  "metadata": {
    "colab": {
      "name": "translation_using_transformer.ipynb",
      "provenance": []
    },
    "kernelspec": {
      "name": "python3",
      "display_name": "Python 3"
    },
    "language_info": {
      "name": "python"
    },
    "gpuClass": "standard",
    "accelerator": "GPU"
  },
  "cells": [
    {
      "cell_type": "markdown",
      "source": [
        "# Language translation using transformer\n",
        "\n",
        "We use a transformer architecture to build a German-to-English translator.\n",
        "\n",
        "For details, see:\n",
        "[Attention is all you need](https://papers.nips.cc/paper/2017/file/3f5ee243547dee91fbd053c1c4a845aa-Paper.pdf) and [The annotated transformer.](https://nlp.seas.harvard.edu/2018/04/03/attention.html#positional-encoding)"
      ],
      "metadata": {
        "id": "wPF1Bj6zVPFx"
      }
    },
    {
      "cell_type": "code",
      "source": [
        "!pip install -U spacy\n",
        "!python -m spacy download en_core_web_sm\n",
        "!python -m spacy download de_core_news_sm\n",
        "\n",
        "from typing import List, Dict, Tuple\n",
        "\n",
        "import math\n",
        "from collections import Counter\n",
        "import matplotlib.pyplot as plt\n",
        "\n",
        "import torchtext\n",
        "from torchtext.data.utils import get_tokenizer\n",
        "from torchtext.vocab import vocab\n",
        "from torchtext.vocab.vocab import Vocab\n",
        "from torchtext.utils import download_from_url, extract_archive\n",
        "import torch\n",
        "import torch.nn as nn\n",
        "from torch import Tensor\n",
        "from torch.nn.utils.rnn import pad_sequence\n",
        "from torch.utils.data import DataLoader\n",
        "from torch.nn import (TransformerEncoder, \n",
        "                      TransformerDecoder,\n",
        "                      TransformerEncoderLayer, \n",
        "                      TransformerDecoderLayer)\n",
        "\n",
        "import io\n",
        "import time\n",
        "\n",
        "torch.manual_seed(0)\n",
        "torch.use_deterministic_algorithms(False)"
      ],
      "metadata": {
        "id": "iEksR6fkNL57"
      },
      "execution_count": 8,
      "outputs": []
    },
    {
      "cell_type": "markdown",
      "source": [
        "# Data processing\n",
        "\n",
        "We load data, tokenize the raw sentences, build vocabularies for English and German, map sequence of tokens to tensors."
      ],
      "metadata": {
        "id": "WTLpInx6nNHl"
      }
    },
    {
      "cell_type": "code",
      "execution_count": 2,
      "metadata": {
        "colab": {
          "base_uri": "https://localhost:8080/"
        },
        "id": "QhkrPitlM9ym",
        "outputId": "8fd87d98-e222-413a-a7a1-7eb12896bf0d"
      },
      "outputs": [
        {
          "output_type": "stream",
          "name": "stderr",
          "text": [
            "100%|██████████| 637k/637k [00:00<00:00, 74.9MB/s]\n",
            "100%|██████████| 569k/569k [00:00<00:00, 89.6MB/s]\n",
            "100%|██████████| 24.7k/24.7k [00:00<00:00, 12.9MB/s]\n",
            "100%|██████████| 21.6k/21.6k [00:00<00:00, 6.10MB/s]\n",
            "100%|██████████| 22.9k/22.9k [00:00<00:00, 17.5MB/s]\n",
            "100%|██████████| 21.1k/21.1k [00:00<00:00, 5.69MB/s]\n"
          ]
        }
      ],
      "source": [
        "# download and extract data\n",
        "url_base = 'https://raw.githubusercontent.com/multi30k/dataset/master/data/task1/raw/'\n",
        "train_urls = ('train.de.gz', 'train.en.gz')\n",
        "val_urls = ('val.de.gz', 'val.en.gz')\n",
        "test_urls = ('test_2016_flickr.de.gz', 'test_2016_flickr.en.gz')\n",
        "\n",
        "train_filepaths = [extract_archive(download_from_url(url_base + url))[0] for url in train_urls]\n",
        "val_filepaths = [extract_archive(download_from_url(url_base + url))[0] for url in val_urls]\n",
        "test_filepaths = [extract_archive(download_from_url(url_base + url))[0] for url in test_urls]\n",
        "\n",
        "# get tokenizers, english and german\n",
        "de_tokenizer = get_tokenizer('spacy', language='de_core_news_sm')\n",
        "en_tokenizer = get_tokenizer('spacy', language='en_core_web_sm')\n",
        "\n",
        "# Define special symbols and indices\n",
        "UNK_IDX, PAD_IDX, BOS_IDX, EOS_IDX = 0, 1, 2, 3\n",
        "\n",
        "def build_vocab(filepath: str, tokenizer) -> Vocab:\n",
        "    \"\"\"\n",
        "    Build and return vocabulary object.\n",
        "    \"\"\"\n",
        "    # ordered dictionary: tokens -> frequencies\n",
        "    counter = Counter()\n",
        "    with io.open(filepath, encoding=\"utf8\") as f:\n",
        "        for string_ in f:\n",
        "            counter.update(tokenizer(string_))\n",
        "    vocab_ = vocab(counter, specials=['<unk>', '<pad>', '<bos>', '<eos>'])\n",
        "    vocab_.set_default_index(UNK_IDX)\n",
        "    return vocab_\n",
        "\n",
        "de_vocab = build_vocab(train_filepaths[0], de_tokenizer)\n",
        "en_vocab = build_vocab(train_filepaths[1], en_tokenizer)\n",
        "\n",
        "def data_process(filepaths: List[str]) -> List[Tuple[Tensor, Tensor]]:\n",
        "    \"\"\"\n",
        "    Args:\n",
        "        filepaths: list with file paths to german and english language data.\n",
        "    Returns:\n",
        "        data: List of data samples. Each sample is a tuple containing the\n",
        "            english and german versions of the sentence. \n",
        "    \"\"\"\n",
        "    raw_de_iter = iter(io.open(filepaths[0], encoding=\"utf8\"))\n",
        "    raw_en_iter = iter(io.open(filepaths[1], encoding=\"utf8\"))\n",
        "    data = []\n",
        "    for (raw_de, raw_en) in zip(raw_de_iter, raw_en_iter):\n",
        "        # tokenize sentence, map tokens to indeces\n",
        "        de_tensor_ = torch.tensor([de_vocab[token] for token in de_tokenizer(raw_de.rstrip(\"\\n\"))],\n",
        "                            dtype=torch.long)\n",
        "        en_tensor_ = torch.tensor([en_vocab[token] for token in en_tokenizer(raw_en.rstrip(\"\\n\"))],\n",
        "                            dtype=torch.long)\n",
        "        data.append((de_tensor_, en_tensor_))\n",
        "\n",
        "    return data\n",
        "\n",
        "\n",
        "def generate_batch(data_batch):\n",
        "    \"\"\"\n",
        "    Adds beginning/end of sentence markers, and pads. Collate function\n",
        "    for dataloaders.\n",
        "    \"\"\"\n",
        "    de_batch, en_batch = [], []\n",
        "    for (de_item, en_item) in data_batch:\n",
        "        # append BOS and EOS indeces\n",
        "        de_batch.append(torch.cat([torch.tensor([BOS_IDX]), de_item, torch.tensor([EOS_IDX])], dim=0))\n",
        "        en_batch.append(torch.cat([torch.tensor([BOS_IDX]), en_item, torch.tensor([EOS_IDX])], dim=0))\n",
        "    # pad so all sequences in the batch have same length\n",
        "    de_batch = pad_sequence(de_batch, padding_value=PAD_IDX)\n",
        "    en_batch = pad_sequence(en_batch, padding_value=PAD_IDX)\n",
        "\n",
        "    return de_batch, en_batch\n",
        "\n",
        "\n",
        "device = torch.device('cuda' if torch.cuda.is_available() else 'cpu')\n",
        "BATCH_SIZE = 128\n",
        "\n",
        "# datasets\n",
        "train_data = data_process(train_filepaths)\n",
        "val_data = data_process(val_filepaths)\n",
        "test_data = data_process(test_filepaths)\n",
        "\n",
        "# dataloaders\n",
        "train_iter = DataLoader(train_data, batch_size=BATCH_SIZE,\n",
        "                        shuffle=True, collate_fn=generate_batch)\n",
        "valid_iter = DataLoader(val_data, batch_size=BATCH_SIZE,\n",
        "                        shuffle=True, collate_fn=generate_batch)\n",
        "test_iter = DataLoader(test_data, batch_size=BATCH_SIZE,\n",
        "                       shuffle=True, collate_fn=generate_batch)\n"
      ]
    },
    {
      "cell_type": "code",
      "source": [
        "print(' '.join(de_vocab.lookup_tokens(train_data[0][0].tolist())))\n",
        "print(' '.join(en_vocab.lookup_tokens(train_data[0][1].tolist())))"
      ],
      "metadata": {
        "colab": {
          "base_uri": "https://localhost:8080/"
        },
        "id": "wyE4eLD2OUwx",
        "outputId": "d6c19dd2-a07a-48ca-db17-3aae1f02adf4"
      },
      "execution_count": 46,
      "outputs": [
        {
          "output_type": "stream",
          "name": "stdout",
          "text": [
            "Zwei junge weiße Männer sind im Freien in der Nähe vieler Büsche .\n",
            "Two young , White males are outside near many bushes .\n"
          ]
        }
      ]
    },
    {
      "cell_type": "markdown",
      "source": [
        "# Architecture "
      ],
      "metadata": {
        "id": "50b7c-qerfDW"
      }
    },
    {
      "cell_type": "code",
      "source": [
        "NHEAD = 8 # the number of heads in the multiheadattention models\n",
        "\n",
        "class PositionalEncoding(nn.Module):\n",
        "    \"\"\"\n",
        "    Computes positional encoding. The positional encoding is added to the token \n",
        "    embedding to introduce a notion of word order\n",
        "\n",
        "    Args:\n",
        "        emb_size: embedding dimension. The positional encodings have the same \n",
        "            dimension as the embeddings so that the two can be summed\n",
        "    \"\"\"\n",
        "    def __init__(self, emb_size: int, dropout, maxlen: int = 5000):\n",
        "        super().__init__()\n",
        "        den = torch.exp(- torch.arange(0, emb_size, 2) * math.log(10000) / emb_size)\n",
        "        pos = torch.arange(0, maxlen).reshape(maxlen, 1)\n",
        "        pos_embedding = torch.zeros((maxlen, emb_size))\n",
        "        pos_embedding[:, 0::2] = torch.sin(pos * den)\n",
        "        pos_embedding[:, 1::2] = torch.cos(pos * den)\n",
        "        pos_embedding = pos_embedding.unsqueeze(-2)\n",
        "\n",
        "        self.dropout = nn.Dropout(dropout)\n",
        "        self.register_buffer('pos_embedding', pos_embedding)\n",
        "\n",
        "    def forward(self, token_embedding: Tensor):\n",
        "        return self.dropout(token_embedding +\n",
        "                            self.pos_embedding[:token_embedding.size(0),:])\n",
        "\n",
        "class TokenEmbedding(nn.Module):\n",
        "    \"\"\"\n",
        "    Embeds index tensors to dense semantic represantion.\n",
        "    \n",
        "    Args:\n",
        "        vocab_size: size of vocabulary.\n",
        "        emb_size: embedding space dimension.\n",
        "    \"\"\"\n",
        "    def __init__(self, vocab_size: int, emb_size) -> None:\n",
        "        super().__init__()\n",
        "        self.embedding = nn.Embedding(vocab_size, emb_size)\n",
        "        self.emb_size = emb_size\n",
        "\n",
        "    def forward(self, tokens: Tensor) -> Tensor:\n",
        "        return self.embedding(tokens.long()) * math.sqrt(self.emb_size)\n",
        "\n",
        "\n",
        "class Seq2SeqTransformer(nn.Module):\n",
        "    \"\"\"\n",
        "    Sequence-to-sequence translation architecture.\n",
        "\n",
        "    num_encoder_layers: the number of sub-encoder-layers in the encoder.\n",
        "    num_decoder_layers: the number of sub-decoder-layers in the decoder.\n",
        "    emb_size: the number of expected dimensionality in the input (embedded).\n",
        "    \"\"\"\n",
        "    def __init__(self, \n",
        "                 num_encoder_layers: int, \n",
        "                 num_decoder_layers: int,\n",
        "                 emb_size: int, \n",
        "                 src_vocab_size: int, \n",
        "                 tgt_vocab_size: int,\n",
        "                 dim_feedforward:int = 512, \n",
        "                 dropout:float = 0.1\n",
        "                 ) -> None:\n",
        "\n",
        "        super().__init__()\n",
        "        encoder_layer = TransformerEncoderLayer(d_model=emb_size, \n",
        "                                                nhead=NHEAD,\n",
        "                                                dim_feedforward=dim_feedforward\n",
        "                                                )\n",
        "        self.transformer_encoder = TransformerEncoder(encoder_layer, \n",
        "                                                      num_layers=num_encoder_layers)\n",
        "        decoder_layer = TransformerDecoderLayer(d_model=emb_size, \n",
        "                                                nhead=NHEAD,\n",
        "                                                dim_feedforward=dim_feedforward)\n",
        "        self.transformer_decoder = TransformerDecoder(decoder_layer, \n",
        "                                                      num_layers=num_decoder_layers)\n",
        "        self.generator = nn.Linear(emb_size, tgt_vocab_size)\n",
        "        self.src_tok_emb = TokenEmbedding(src_vocab_size, emb_size)\n",
        "        self.tgt_tok_emb = TokenEmbedding(tgt_vocab_size, emb_size)\n",
        "        self.positional_encoding = PositionalEncoding(emb_size, dropout=dropout)\n",
        "\n",
        "    def forward(self, \n",
        "                src: Tensor, \n",
        "                trg: Tensor, \n",
        "                src_mask: Tensor,\n",
        "                tgt_mask: Tensor, \n",
        "                src_padding_mask: Tensor,\n",
        "                tgt_padding_mask: Tensor, \n",
        "                memory_key_padding_mask: Tensor):\n",
        "        \n",
        "        # embed and positional encode, source and target\n",
        "        src_emb = self.positional_encoding(self.src_tok_emb(src))\n",
        "        tgt_emb = self.positional_encoding(self.tgt_tok_emb(trg))\n",
        "        # encoder pass for the source\n",
        "        memory = self.transformer_encoder(src_emb, \n",
        "                                          src_mask, \n",
        "                                          src_padding_mask)\n",
        "        # decoder using memory and target\n",
        "        outs = self.transformer_decoder(tgt_emb, memory, tgt_mask, \n",
        "                                        memory_mask=None,\n",
        "                                        tgt_key_padding_mask=tgt_padding_mask, \n",
        "                                        memory_key_padding_mask=memory_key_padding_mask)\n",
        "        return self.generator(outs)\n",
        "\n",
        "    def encode(self, src: Tensor, src_mask: Tensor):\n",
        "        return self.transformer_encoder(self.positional_encoding(\n",
        "                            self.src_tok_emb(src)), src_mask)\n",
        "\n",
        "    def decode(self, tgt: Tensor, memory: Tensor, tgt_mask: Tensor):\n",
        "        return self.transformer_decoder(self.positional_encoding(\n",
        "                          self.tgt_tok_emb(tgt)), memory,\n",
        "                          tgt_mask)"
      ],
      "metadata": {
        "id": "IDUjrXIMSV35"
      },
      "execution_count": 9,
      "outputs": []
    },
    {
      "cell_type": "code",
      "source": [
        "def generate_square_subsequent_mask(sz):\n",
        "    mask = (torch.triu(torch.ones((sz, sz), device=device)) == 1).transpose(0, 1)\n",
        "    mask = mask.float().masked_fill(mask == 0, float('-inf')).masked_fill(mask == 1, float(0.0))\n",
        "    return mask\n",
        "\n",
        "def create_mask(src, tgt):\n",
        "    src_seq_len = src.shape[0]\n",
        "    tgt_seq_len = tgt.shape[0]\n",
        "\n",
        "    tgt_mask = generate_square_subsequent_mask(tgt_seq_len)\n",
        "    src_mask = torch.zeros((src_seq_len, src_seq_len), device=device).type(torch.bool)\n",
        "\n",
        "    src_padding_mask = (src == PAD_IDX).transpose(0, 1)\n",
        "    tgt_padding_mask = (tgt == PAD_IDX).transpose(0, 1)\n",
        "    return src_mask, tgt_mask, src_padding_mask, tgt_padding_mask"
      ],
      "metadata": {
        "id": "CdQY4ugaTMvj"
      },
      "execution_count": 4,
      "outputs": []
    },
    {
      "cell_type": "markdown",
      "source": [
        "# Model"
      ],
      "metadata": {
        "id": "Q0hWsTCdgRbG"
      }
    },
    {
      "cell_type": "code",
      "source": [
        "BATCH_SIZE = 128\n",
        "NUM_EPOCHS = 13\n",
        "\n",
        "transformer = Seq2SeqTransformer(\n",
        "    num_encoder_layers = 3, \n",
        "    num_decoder_layers = 3,\n",
        "    emb_size = 512, \n",
        "    src_vocab_size = len(de_vocab), \n",
        "    tgt_vocab_size = len(en_vocab),\n",
        "    dim_feedforward = 512\n",
        "    ) \n",
        "\n",
        "for p in transformer.parameters():\n",
        "    if p.dim() > 1:\n",
        "        nn.init.xavier_uniform_(p)\n",
        "\n",
        "transformer = transformer.to(device)\n",
        "\n",
        "loss_fn = torch.nn.CrossEntropyLoss(ignore_index=PAD_IDX)\n",
        "\n",
        "optimizer = torch.optim.Adam(\n",
        "    transformer.parameters(), lr=0.0001, betas=(0.9, 0.98), eps=1e-9\n",
        ")"
      ],
      "metadata": {
        "id": "WVVEB430TkeH"
      },
      "execution_count": 40,
      "outputs": []
    },
    {
      "cell_type": "markdown",
      "source": [
        "# Training and eval functions\n",
        "\n",
        "We define the training step excluding the source mask so that the encoder applies full attention to the source sentence. We do pass a target mask to avoid attending to future tokens in the training target sentence."
      ],
      "metadata": {
        "id": "cmD9NhQtgUNB"
      }
    },
    {
      "cell_type": "code",
      "source": [
        "def train_epoch(model, train_iter, optimizer):\n",
        "  model.train()\n",
        "  losses = 0\n",
        "  for idx, (src, tgt) in enumerate(train_iter):\n",
        "      src = src.to(device)\n",
        "      tgt = tgt.to(device)\n",
        "\n",
        "      tgt_input = tgt[:-1, :]\n",
        "      _, tgt_mask, src_padding_mask, tgt_padding_mask = create_mask(src, tgt_input)\n",
        "      logits = model(src,\n",
        "                     tgt_input, \n",
        "                     None, # source mask\n",
        "                     tgt_mask,\n",
        "                     src_padding_mask, \n",
        "                     tgt_padding_mask, \n",
        "                     src_padding_mask)\n",
        "      \n",
        "      optimizer.zero_grad()\n",
        "\n",
        "      tgt_out = tgt[1:,:]\n",
        "      loss = loss_fn(logits.reshape(-1, logits.shape[-1]), tgt_out.reshape(-1))\n",
        "      loss.backward()\n",
        "\n",
        "      optimizer.step()\n",
        "      losses += loss.item()\n",
        "  return losses / len(train_iter)\n",
        "\n",
        "def evaluate(model, val_iter):\n",
        "    model.eval()\n",
        "    losses = 0\n",
        "    for idx, (src, tgt) in (enumerate(valid_iter)):\n",
        "        src = src.to(device)\n",
        "        tgt = tgt.to(device)\n",
        "\n",
        "        tgt_input = tgt[:-1, :]\n",
        "\n",
        "        _, tgt_mask, src_padding_mask, tgt_padding_mask = create_mask(src, tgt_input)\n",
        "\n",
        "        logits = model(src, \n",
        "                       tgt_input, \n",
        "                       None, # source mask\n",
        "                       tgt_mask,\n",
        "                       src_padding_mask, \n",
        "                       tgt_padding_mask, \n",
        "                       src_padding_mask)\n",
        "        tgt_out = tgt[1:,:]\n",
        "        loss = loss_fn(logits.reshape(-1, logits.shape[-1]), tgt_out.reshape(-1))\n",
        "        losses += loss.item()\n",
        "    return losses / len(val_iter)"
      ],
      "metadata": {
        "id": "RISCGONmUMi8"
      },
      "execution_count": 39,
      "outputs": []
    },
    {
      "cell_type": "markdown",
      "source": [
        "### Training loop"
      ],
      "metadata": {
        "id": "pLWOozlEJamC"
      }
    },
    {
      "cell_type": "code",
      "source": [
        "train_losses, val_losses = [], []\n",
        "\n",
        "for epoch in range(1, NUM_EPOCHS+1):\n",
        "    start_time = time.time()\n",
        "    train_loss = train_epoch(transformer, train_iter, optimizer)\n",
        "    end_time = time.time()\n",
        "    val_loss = evaluate(transformer, valid_iter)\n",
        "\n",
        "    train_losses.append(train_loss)\n",
        "    val_losses.append(val_loss)\n",
        "    \n",
        "    print((f\"Epoch: {epoch}, Train loss: {train_loss:.3f}, Val loss: {val_loss:.3f}, \"\n",
        "          f\"Epoch time = {(end_time - start_time):.3f}s\"))"
      ],
      "metadata": {
        "colab": {
          "base_uri": "https://localhost:8080/"
        },
        "id": "0n9FCaq8CC8D",
        "outputId": "2bd6d27d-8d92-48b4-f421-718694c122f0"
      },
      "execution_count": 41,
      "outputs": [
        {
          "output_type": "stream",
          "name": "stdout",
          "text": [
            "Epoch: 1, Train loss: 5.343, Val loss: 4.091, Epoch time = 33.444s\n",
            "Epoch: 2, Train loss: 3.732, Val loss: 3.269, Epoch time = 34.083s\n",
            "Epoch: 3, Train loss: 3.129, Val loss: 2.856, Epoch time = 34.320s\n",
            "Epoch: 4, Train loss: 2.737, Val loss: 2.593, Epoch time = 34.543s\n",
            "Epoch: 5, Train loss: 2.445, Val loss: 2.415, Epoch time = 34.804s\n",
            "Epoch: 6, Train loss: 2.215, Val loss: 2.276, Epoch time = 35.327s\n",
            "Epoch: 7, Train loss: 2.023, Val loss: 2.161, Epoch time = 35.671s\n",
            "Epoch: 8, Train loss: 1.858, Val loss: 2.093, Epoch time = 35.620s\n",
            "Epoch: 9, Train loss: 1.717, Val loss: 2.023, Epoch time = 35.568s\n",
            "Epoch: 10, Train loss: 1.591, Val loss: 1.998, Epoch time = 35.684s\n",
            "Epoch: 11, Train loss: 1.482, Val loss: 1.952, Epoch time = 35.746s\n",
            "Epoch: 12, Train loss: 1.382, Val loss: 1.928, Epoch time = 35.735s\n",
            "Epoch: 13, Train loss: 1.292, Val loss: 1.895, Epoch time = 35.788s\n"
          ]
        }
      ]
    },
    {
      "cell_type": "code",
      "source": [
        "plt.figure(figsize=(7,7))\n",
        "plt.plot(range(len(train_losses)), train_losses,label='training' )\n",
        "plt.plot(range(len(val_losses)), val_losses,label='validation' )\n",
        "plt.legend()\n",
        "plt.xlabel('epoch')\n",
        "plt.ylabel('cross entropy loss')\n",
        "plt.show()"
      ],
      "metadata": {
        "colab": {
          "base_uri": "https://localhost:8080/",
          "height": 442
        },
        "id": "p6DH7hYMDCbI",
        "outputId": "5e420dd1-d3bb-4b08-e161-a989d2c88cc8"
      },
      "execution_count": 57,
      "outputs": [
        {
          "output_type": "display_data",
          "data": {
            "text/plain": [
              "<Figure size 504x504 with 1 Axes>"
            ],
            "image/png": "[encoded data removed]"
          },
          "metadata": {
            "needs_background": "light"
          }
        }
      ]
    },
    {
      "cell_type": "markdown",
      "source": [
        "Note that there is some overfitting with current model + data combination."
      ],
      "metadata": {
        "id": "4OYahnhvPh3p"
      }
    },
    {
      "cell_type": "markdown",
      "source": [
        "# Inference\n",
        "\n",
        "We collect methods to translate and show examples."
      ],
      "metadata": {
        "id": "A21iG9xcO2SS"
      }
    },
    {
      "cell_type": "code",
      "source": [
        "def greedy_decode(model, src, src_mask, max_len, start_symbol=BOS_IDX):\n",
        "    \"\"\"\n",
        "    Helper function which greedily predicts next token given previous \n",
        "    predictions.\n",
        "\n",
        "    Args:\n",
        "        model: transformer model for sequence-to-sequence translation.\n",
        "        src: input sentence to translate.\n",
        "        src_mask: source mask.\n",
        "        max_len: maximum length of predicted sentence.\n",
        "        start_symbol: starting token in predicted sentence. By default the\n",
        "            constant BOS_IDX.\n",
        "\n",
        "    Returns:\n",
        "        ys: predicted senquence of tokens.\n",
        "    \"\"\"\n",
        "    src = src.to(device)\n",
        "    \n",
        "    if src_mask is not None: src_mask = src_mask.to(device)\n",
        "\n",
        "    memory = model.encode(src, src_mask)\n",
        "    ys = torch.ones(1, 1).fill_(start_symbol).type(torch.long).to(device)\n",
        "    for i in range(max_len-1):\n",
        "        memory = memory.to(device)\n",
        "        memory_mask = torch.zeros(ys.shape[0], memory.shape[0]).to(device).type(torch.bool)\n",
        "        tgt_mask = (generate_square_subsequent_mask(ys.size(0))\n",
        "                                    .type(torch.bool)).to(device)\n",
        "        out = model.decode(ys, memory, tgt_mask)\n",
        "        out = out.transpose(0, 1)\n",
        "        prob = model.generator(out[:, -1])\n",
        "        _, next_word = torch.max(prob, dim = 1)\n",
        "        next_word = next_word.item()\n",
        "\n",
        "        ys = torch.cat(\n",
        "            [ys, torch.ones(1, 1).type_as(src.data).fill_(next_word)], dim=0)\n",
        "        if next_word == EOS_IDX:\n",
        "          break\n",
        "    return ys\n",
        "\n",
        "\n",
        "def translate(model: Seq2SeqTransformer, \n",
        "              src: str, \n",
        "              src_vocab: Vocab, \n",
        "              tgt_vocab: Vocab, \n",
        "              src_tokenizer) -> str:\n",
        "    \"\"\"\n",
        "    Translates source sentence using transformer.\n",
        "\n",
        "    Args:\n",
        "        model: transformer model for sequence-to-sequence translation.\n",
        "        src: input sentence to translate.\n",
        "        src_vocab: source torchtext vocabulary object.\n",
        "        tgt_vocab: target torchtext vocabulary object.\n",
        "        src_tokenizer: source tokenizer.\n",
        "\n",
        "    Returns:\n",
        "        translated version of input sentence.\n",
        "    \"\"\"\n",
        "    model.eval()\n",
        "    tokens = [BOS_IDX] + [src_vocab.get_stoi()[tok] for tok in src_tokenizer(src)]+ [EOS_IDX]\n",
        "    num_tokens = len(tokens)\n",
        "    src = (torch.LongTensor(tokens).reshape(num_tokens, 1) )\n",
        "    # Just as during training, we do not apply a source mask, instead we \n",
        "    # pass None\n",
        "    tgt_tokens = greedy_decode(model, \n",
        "                               src, \n",
        "                               src_mask=None, \n",
        "                               max_len=num_tokens + 5, \n",
        "                               start_symbol=BOS_IDX).flatten()\n",
        "    return \" \".join(\n",
        "        [tgt_vocab.get_itos()[tok] for tok in tgt_tokens]\n",
        "        ).replace(\"<bos>\", \"\").replace(\"<eos>\", \"\")"
      ],
      "metadata": {
        "id": "6_o30pb0UvVO"
      },
      "execution_count": 53,
      "outputs": []
    },
    {
      "cell_type": "code",
      "source": [
        "translate(transformer, \"Eine Gruppe von Menschen steht vor einem Iglu .\", \n",
        "          de_vocab, en_vocab, de_tokenizer)"
      ],
      "metadata": {
        "colab": {
          "base_uri": "https://localhost:8080/",
          "height": 35
        },
        "id": "OIT0NE7hLObm",
        "outputId": "92cf3766-c9d9-45c8-b114-6e5b9bc7b618"
      },
      "execution_count": 47,
      "outputs": [
        {
          "output_type": "execute_result",
          "data": {
            "text/plain": [
              "' A group of people standing in front of an auditorium . '"
            ],
            "application/vnd.google.colaboratory.intrinsic+json": {
              "type": "string"
            }
          },
          "metadata": {},
          "execution_count": 47
        }
      ]
    },
    {
      "cell_type": "code",
      "source": [
        "translate(transformer, \"Die Autos fahren schnell\", \n",
        "          de_vocab, en_vocab, de_tokenizer)"
      ],
      "metadata": {
        "colab": {
          "base_uri": "https://localhost:8080/",
          "height": 35
        },
        "id": "uSO6w5VkBQ1T",
        "outputId": "af512912-22fb-46f7-c6e3-e7291a959552"
      },
      "execution_count": 54,
      "outputs": [
        {
          "output_type": "execute_result",
          "data": {
            "text/plain": [
              "' The cars are racing up . '"
            ],
            "application/vnd.google.colaboratory.intrinsic+json": {
              "type": "string"
            }
          },
          "metadata": {},
          "execution_count": 54
        }
      ]
    },
    {
      "cell_type": "code",
      "source": [
        ""
      ],
      "metadata": {
        "id": "W6S3rrUPLjDT"
      },
      "execution_count": null,
      "outputs": []
    }
  ]
}